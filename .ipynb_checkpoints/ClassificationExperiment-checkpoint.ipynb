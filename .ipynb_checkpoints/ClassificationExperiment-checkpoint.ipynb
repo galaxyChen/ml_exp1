{
 "cells": [
  {
   "cell_type": "code",
   "execution_count": 12,
   "metadata": {},
   "outputs": [
    {
     "name": "stdout",
     "output_type": "stream",
     "text": [
      "begin to train\n",
      "C:1.000000\n",
      "learning rate:0.100000\n",
      "number of rounds:100\n",
      "\n",
      "origin train loss:1.207609\n",
      "origin validation loss:1.275362\n",
      "\n",
      "final train loss:0.394366\n",
      "final validation loss:0.463434\n",
      "train:\n",
      "acc:0.862319\n",
      "test:\n",
      "acc:0.826087\n"
     ]
    },
    {
     "data": {
      "image/png": "[encoded data removed]",
      "text/plain": [
       "<matplotlib.figure.Figure at 0x20a71742438>"
      ]
     },
     "metadata": {},
     "output_type": "display_data"
    }
   ],
   "source": [
    "# -*- coding: utf-8 -*-\n",
    "%matplotlib inline\n",
    "from sklearn import datasets\n",
    "from sklearn import model_selection\n",
    "import numpy as np\n",
    "import matplotlib.pyplot as plt\n",
    "\n",
    "def loss(X,y,w,b,C):\n",
    "    m = y.shape[0]\n",
    "    hinge = sum(list(map(lambda x:max(0,x[0]),(1-y.A*(X*w+b).A))))\n",
    "    w_2 = sum(w.A**2)[0]\n",
    "    return (0.5*w_2+C*hinge)/m\n",
    "    \n",
    "def gradient(X,y,w,C,b):\n",
    "    m = y.shape[0]\n",
    "    dw = np.zeros((X.shape[1],1))\n",
    "    db = 0\n",
    "    db = 0\n",
    "    indicator = 1-y.A*((X*w+b).A)\n",
    "    for i in range(m):\n",
    "        if indicator[i]>=0:\n",
    "            dw += w - C*(y[i]*X[i]).T\n",
    "            db += -C*y[i]\n",
    "        else:\n",
    "            dw += w \n",
    "    return [dw,db]\n",
    "\n",
    "def checkGradient(X,y,w,C,b):\n",
    "    delta = 1e-6\n",
    "    dw = (loss(X,y,w+delta,b,C)-loss(X,y,w-delta,b,C))/(np.ones(w.shape)*delta*2)\n",
    "    db = (loss(X,y,w,b+delta,C)-loss(X,y,w,b-delta,C))/delta*2\n",
    "    return dw,db\n",
    "    \n",
    "def gradientDecent(X,y,w,C,b,alpha,num_rounds,val_x,val_y): \n",
    "    m = y.shape[0]\n",
    "    train_loss_history = []\n",
    "    val_loss_history = []\n",
    "    print(\"origin train loss:%f\"%loss(X,y,w,b,C))\n",
    "    train_loss_history.append(loss(X,y,w,b,C))\n",
    "    print(\"origin validation loss:%f\"%loss(val_x,val_y,w,b,C))\n",
    "    val_loss_history.append(loss(val_x,val_y,w,b,C))    \n",
    "    print(\"\")\n",
    "    \n",
    "    for i in range(num_rounds):\n",
    "        new_w = w - gradient(X,y,w,C,b)[0]*alpha/m\n",
    "        new_b = b - gradient(X,y,w,C,b)[1]*alpha/m\n",
    "        w = new_w\n",
    "        b = new_b\n",
    "        train_loss_history.append(loss(X,y,w,b,C))\n",
    "        val_loss_history.append(loss(val_x,val_y,w,b,C))\n",
    "        \n",
    "    return w,b,train_loss_history,val_loss_history\n",
    "\n",
    "def predict(X,y,w,b):\n",
    "    pred = X*w+b\n",
    "    pred_y = list(map(lambda x:1 if x[0]>0 else -1,pred.A))\n",
    "    acc = (y.A1==pred_y).sum()/len(y.A)\n",
    "    print(\"acc:%f\"%acc)\n",
    "\n",
    "def train(X,y,val_x,val_y):\n",
    "    m = X.shape[1]\n",
    "    init_w = np.matrix(np.zeros(m)).T\n",
    "    print(\"begin to train\")\n",
    "    C= 1\n",
    "    b = 1.2\n",
    "    alpha = 0.1\n",
    "    num_rounds=100\n",
    "    print(\"C:%f\"%C)\n",
    "    print(\"learning rate:%f\"%alpha)\n",
    "    print(\"number of rounds:%d\"%num_rounds)\n",
    "    print(\"\")\n",
    "    \n",
    "    #print(\"check gradient\")\n",
    "    #print(gradient(X,y,init_w,C,b))\n",
    "    #print(checkGradient(X,y,init_w,C,b))\n",
    "    #print(\"\")\n",
    "    \n",
    "    \n",
    "    w,b,train_loss_history,val_loss_history = gradientDecent(X,y,init_w,C,b,alpha,num_rounds,val_x,val_y)\n",
    "    plt.plot(np.arange(num_rounds+1),train_loss_history,label='train loss')\n",
    "    plt.plot(np.arange(num_rounds+1),val_loss_history,label='validation loss')\n",
    "    plt.legend(loc=1)\n",
    "    plt.xlabel('number_of_rounds')\n",
    "    plt.ylabel('loss')\n",
    "    return w,b,train_loss_history,val_loss_history\n",
    "    \n",
    "\n",
    "def getData():\n",
    "    X,y = datasets.load_svmlight_file('./australian_scale',n_features=14)\n",
    "    X = np.matrix(X.toarray())\n",
    "    y = np.matrix(y).T\n",
    "    train_x,test_x,train_y,test_y = model_selection.train_test_split(X,y,test_size=0.2,random_state=1231)   \n",
    "    return train_x,test_x,train_y,test_y\n",
    "    \n",
    "\n",
    "train_x,test_x,train_y,test_y = getData()\n",
    "w,b,train_loss,val_loss = train(train_x,train_y,test_x,test_y)\n",
    "print(\"final train loss:%f\"%train_loss.pop())\n",
    "print(\"final validation loss:%f\"%val_loss.pop())\n",
    "print(\"train:\")\n",
    "predict(train_x,train_y,w,b)\n",
    "print(\"test:\")\n",
    "predict(test_x,test_y,w,b)\n",
    "\n",
    "\n"
   ]
  },
  {
   "cell_type": "code",
   "execution_count": null,
   "metadata": {
    "collapsed": true
   },
   "outputs": [],
   "source": []
  },
  {
   "cell_type": "code",
   "execution_count": null,
   "metadata": {
    "collapsed": true
   },
   "outputs": [],
   "source": []
  }
 ],
 "metadata": {
  "kernelspec": {
   "display_name": "Python 3",
   "language": "python",
   "name": "python3"
  },
  "language_info": {
   "codemirror_mode": {
    "name": "ipython",
    "version": 3
   },
   "file_extension": ".py",
   "mimetype": "text/x-python",
   "name": "python",
   "nbconvert_exporter": "python",
   "pygments_lexer": "ipython3",
   "version": "3.6.2"
  }
 },
 "nbformat": 4,
 "nbformat_minor": 2
}
