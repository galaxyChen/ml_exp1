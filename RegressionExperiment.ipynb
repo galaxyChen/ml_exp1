{
 "cells": [
  {
   "cell_type": "code",
   "execution_count": 9,
   "metadata": {},
   "outputs": [
    {
     "name": "stdout",
     "output_type": "stream",
     "text": [
      "begin to train\n",
      "learning rate alpha:0.100000\n",
      "number of rounds:100\n",
      "\n",
      "origin train loss:292.675149\n",
      "origin validation loss:309.533431\n",
      "\n",
      "final train loss:12.217249\n",
      "final validation loss:14.703547\n"
     ]
    },
    {
     "data": {
      "image/png": "[encoded data removed]",
      "text/plain": [
       "<matplotlib.figure.Figure at 0x142b8d86e80>"
      ]
     },
     "metadata": {},
     "output_type": "display_data"
    }
   ],
   "source": [
    "%matplotlib inline\n",
    "# write your code here# -*- coding: utf-8 -*-\n",
    "from sklearn import datasets\n",
    "from sklearn import model_selection\n",
    "import numpy as np\n",
    "import matplotlib.pyplot as plt\n",
    "\n",
    "def loss(X,y,w):\n",
    "    m = y.shape[0]\n",
    "    return 0.5*(((y-X*w).T*(y-X*w))).sum()/m\n",
    "\n",
    "def gradient(X,y,w):\n",
    "    return X.T*(X*w-y)\n",
    "    \n",
    "def gradientDecent(X,y,w,alpha,num_rounds,val_x,val_y):\n",
    "    m = y.shape[0]\n",
    "    train_loss_history = []\n",
    "    val_loss_history = []\n",
    "    print(\"origin train loss:%f\"%loss(X,y,w))\n",
    "    train_loss_history.append(loss(X,y,w))\n",
    "    print(\"origin validation loss:%f\"%loss(val_x,val_y,w))\n",
    "    val_loss_history.append(loss(val_x,val_y,w))\n",
    "    print(\"\")\n",
    "    \n",
    "    for i in range(num_rounds):\n",
    "        w = w - gradient(X,y,w)*alpha/m\n",
    "        train_loss_history.append(loss(X,y,w))\n",
    "        val_loss_history.append(loss(val_x,val_y,w))\n",
    "        \n",
    "    return w,train_loss_history,val_loss_history\n",
    "\n",
    "def train(X,y,val_x,val_y):\n",
    "    m = X.shape[1]\n",
    "    init_w = np.matrix(np.zeros(m)).T\n",
    "    print(\"begin to train\")\n",
    "    alpha=0.1\n",
    "    num_rounds=100\n",
    "    print(\"learning rate alpha:%f\"%alpha)\n",
    "    print(\"number of rounds:%d\"%num_rounds)\n",
    "    print(\"\")\n",
    "    w,train_loss_history,val_loss_history = gradientDecent(X,y,init_w,alpha,num_rounds,val_x,val_y)\n",
    "    plt.plot(np.arange(num_rounds+1),train_loss_history,label='train loss')\n",
    "    plt.plot(np.arange(num_rounds+1),val_loss_history,label='validation loss')\n",
    "    plt.legend(loc=1)\n",
    "    plt.xlabel('number_of_rounds')\n",
    "    plt.ylabel('loss')\n",
    "    return w,train_loss_history,val_loss_history\n",
    "    \n",
    "\n",
    "def getData():\n",
    "    X,y = datasets.load_svmlight_file('./housing_scale',n_features=13)\n",
    "    X = np.matrix(X.toarray())\n",
    "    ones = np.matrix(np.ones((X.shape[0],1)))\n",
    "    X = np.concatenate((ones,X),axis=1)\n",
    "    y = np.matrix(y).T\n",
    "    train_x,test_x,train_y,test_y = model_selection.train_test_split(X,y,test_size=0.2,random_state=123)   \n",
    "    return train_x,test_x,train_y,test_y\n",
    "    \n",
    "\n",
    "train_x,test_x,train_y,test_y = getData()\n",
    "w,train_loss,val_loss = train(train_x,train_y,test_x,test_y)\n",
    "print(\"final train loss:%f\"%train_loss.pop())\n",
    "print(\"final validation loss:%f\"%val_loss.pop())\n",
    "\n",
    "\n",
    "\n"
   ]
  },
  {
   "cell_type": "code",
   "execution_count": null,
   "metadata": {
    "collapsed": true
   },
   "outputs": [],
   "source": []
  }
 ],
 "metadata": {
  "kernelspec": {
   "display_name": "Python 3",
   "language": "python",
   "name": "python3"
  },
  "language_info": {
   "codemirror_mode": {
    "name": "ipython",
    "version": 3
   },
   "file_extension": ".py",
   "mimetype": "text/x-python",
   "name": "python",
   "nbconvert_exporter": "python",
   "pygments_lexer": "ipython3",
   "version": "3.6.2"
  }
 },
 "nbformat": 4,
 "nbformat_minor": 2
}
